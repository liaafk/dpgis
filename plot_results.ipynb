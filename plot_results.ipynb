{
 "cells": [
  {
   "cell_type": "code",
   "execution_count": 3,
   "metadata": {},
   "outputs": [
    {
     "name": "stdout",
     "output_type": "stream",
     "text": [
      "Requirement already satisfied: geopandas in /home/lia/lib/python3.10/site-packages (0.11.0)\n",
      "Requirement already satisfied: packaging in /home/lia/lib/python3.10/site-packages (from geopandas) (21.3)\n",
      "Requirement already satisfied: fiona>=1.8 in /home/lia/lib/python3.10/site-packages (from geopandas) (1.8.21)\n",
      "Requirement already satisfied: pandas>=1.0.0 in /home/lia/lib/python3.10/site-packages (from geopandas) (1.4.3)\n",
      "Requirement already satisfied: shapely<2,>=1.7 in /home/lia/lib/python3.10/site-packages (from geopandas) (1.8.2)\n",
      "Requirement already satisfied: pyproj>=2.6.1.post1 in /home/lia/lib/python3.10/site-packages (from geopandas) (3.3.1)\n",
      "Requirement already satisfied: click>=4.0 in /home/lia/lib/python3.10/site-packages (from fiona>=1.8->geopandas) (8.1.3)\n",
      "Requirement already satisfied: setuptools in /home/lia/lib/python3.10/site-packages (from fiona>=1.8->geopandas) (63.1.0)\n",
      "Requirement already satisfied: click-plugins>=1.0 in /home/lia/lib/python3.10/site-packages (from fiona>=1.8->geopandas) (1.1.1)\n",
      "Requirement already satisfied: cligj>=0.5 in /home/lia/lib/python3.10/site-packages (from fiona>=1.8->geopandas) (0.7.2)\n",
      "Requirement already satisfied: munch in /home/lia/lib/python3.10/site-packages (from fiona>=1.8->geopandas) (2.5.0)\n",
      "Requirement already satisfied: attrs>=17 in /home/lia/lib/python3.10/site-packages (from fiona>=1.8->geopandas) (21.4.0)\n",
      "Requirement already satisfied: six>=1.7 in /home/lia/lib/python3.10/site-packages (from fiona>=1.8->geopandas) (1.16.0)\n",
      "Requirement already satisfied: certifi in /home/lia/lib/python3.10/site-packages (from fiona>=1.8->geopandas) (2022.6.15)\n",
      "Requirement already satisfied: numpy>=1.21.0 in /home/lia/lib/python3.10/site-packages (from pandas>=1.0.0->geopandas) (1.23.1)\n",
      "Requirement already satisfied: python-dateutil>=2.8.1 in /home/lia/lib/python3.10/site-packages (from pandas>=1.0.0->geopandas) (2.8.2)\n",
      "Requirement already satisfied: pytz>=2020.1 in /home/lia/lib/python3.10/site-packages (from pandas>=1.0.0->geopandas) (2022.1)\n",
      "Requirement already satisfied: pyparsing!=3.0.5,>=2.0.2 in /home/lia/lib/python3.10/site-packages (from packaging->geopandas) (3.0.9)\n",
      "Note: you may need to restart the kernel to use updated packages.\n",
      "Collecting matplotlib\n",
      "  Downloading matplotlib-3.5.2-cp310-cp310-manylinux_2_17_x86_64.manylinux2014_x86_64.whl (11.9 MB)\n",
      "\u001b[2K     \u001b[38;2;114;156;31m━━━━━━━━━━━━━━━━━━━━━━━━━━━━━━━━━━━━━━━━\u001b[0m \u001b[32m11.9/11.9 MB\u001b[0m \u001b[31m10.0 MB/s\u001b[0m eta \u001b[36m0:00:00\u001b[0mm eta \u001b[36m0:00:01\u001b[0m0:01\u001b[0m:01\u001b[0m\n",
      "\u001b[?25hCollecting pillow>=6.2.0\n",
      "  Downloading Pillow-9.2.0-cp310-cp310-manylinux_2_28_x86_64.whl (3.2 MB)\n",
      "\u001b[2K     \u001b[38;2;114;156;31m━━━━━━━━━━━━━━━━━━━━━━━━━━━━━━━━━━━━━━━━\u001b[0m \u001b[32m3.2/3.2 MB\u001b[0m \u001b[31m10.9 MB/s\u001b[0m eta \u001b[36m0:00:00\u001b[0mm eta \u001b[36m0:00:01\u001b[0m[36m0:00:01\u001b[0m\n",
      "\u001b[?25hRequirement already satisfied: numpy>=1.17 in /home/lia/lib/python3.10/site-packages (from matplotlib) (1.23.1)\n",
      "Requirement already satisfied: packaging>=20.0 in /home/lia/lib/python3.10/site-packages (from matplotlib) (21.3)\n",
      "Collecting fonttools>=4.22.0\n",
      "  Downloading fonttools-4.34.4-py3-none-any.whl (944 kB)\n",
      "\u001b[2K     \u001b[38;2;114;156;31m━━━━━━━━━━━━━━━━━━━━━━━━━━━━━━━━━━━━━━\u001b[0m \u001b[32m944.1/944.1 kB\u001b[0m \u001b[31m11.4 MB/s\u001b[0m eta \u001b[36m0:00:00\u001b[0mm eta \u001b[36m0:00:01\u001b[0m0:01\u001b[0m\n",
      "\u001b[?25hCollecting cycler>=0.10\n",
      "  Using cached cycler-0.11.0-py3-none-any.whl (6.4 kB)\n",
      "Requirement already satisfied: python-dateutil>=2.7 in /home/lia/lib/python3.10/site-packages (from matplotlib) (2.8.2)\n",
      "Collecting kiwisolver>=1.0.1\n",
      "  Downloading kiwisolver-1.4.3-cp310-cp310-manylinux_2_12_x86_64.manylinux2010_x86_64.whl (1.6 MB)\n",
      "\u001b[2K     \u001b[38;2;114;156;31m━━━━━━━━━━━━━━━━━━━━━━━━━━━━━━━━━━━━━━━━\u001b[0m \u001b[32m1.6/1.6 MB\u001b[0m \u001b[31m11.7 MB/s\u001b[0m eta \u001b[36m0:00:00\u001b[0m31m13.3 MB/s\u001b[0m eta \u001b[36m0:00:01\u001b[0m\n",
      "\u001b[?25hRequirement already satisfied: pyparsing>=2.2.1 in /home/lia/lib/python3.10/site-packages (from matplotlib) (3.0.9)\n",
      "Requirement already satisfied: six>=1.5 in /home/lia/lib/python3.10/site-packages (from python-dateutil>=2.7->matplotlib) (1.16.0)\n",
      "Installing collected packages: pillow, kiwisolver, fonttools, cycler, matplotlib\n",
      "Successfully installed cycler-0.11.0 fonttools-4.34.4 kiwisolver-1.4.3 matplotlib-3.5.2 pillow-9.2.0\n",
      "Note: you may need to restart the kernel to use updated packages.\n"
     ]
    }
   ],
   "source": [
    "%pip install geopandas\n",
    "%pip install matplotlib\n",
    "import pandas as pd\n",
    "import geopandas as gpd\n",
    "from shapely import geometry\n",
    "import matplotlib.pyplot as plt"
   ]
  },
  {
   "cell_type": "code",
   "execution_count": null,
   "metadata": {},
   "outputs": [],
   "source": []
  }
 ],
 "metadata": {
  "kernelspec": {
   "display_name": "Python 3 (ipykernel)",
   "language": "python",
   "name": "python3"
  },
  "language_info": {
   "codemirror_mode": {
    "name": "ipython",
    "version": 3
   },
   "file_extension": ".py",
   "mimetype": "text/x-python",
   "name": "python",
   "nbconvert_exporter": "python",
   "pygments_lexer": "ipython3",
   "version": "3.10.4"
  }
 },
 "nbformat": 4,
 "nbformat_minor": 2
}
